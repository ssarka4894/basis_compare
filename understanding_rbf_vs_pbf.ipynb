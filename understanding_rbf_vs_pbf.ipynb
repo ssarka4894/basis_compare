{
 "cells": [
  {
   "cell_type": "code",
   "execution_count": 1,
   "id": "d7caa820-6aef-4a0e-9e74-1d5c1731c4b1",
   "metadata": {},
   "outputs": [],
   "source": [
    "import numpy as np\n",
    "import matplotlib.pyplot as plt"
   ]
  },
  {
   "cell_type": "code",
   "execution_count": 2,
   "id": "38afd656-6f4c-4c45-bde6-35fc37dfc860",
   "metadata": {},
   "outputs": [],
   "source": [
    "xk = np.linspace(0,1,5)\n",
    "x = np.linspace(0,1,100)\n",
    "def true_fn(x):\n",
    "    #return 2*x**2 - np.cos(2*np.pi*x)*np.sin(3*np.pi*x)\n",
    "    return x**2 -x- np.cos(np.pi*x)"
   ]
  },
  {
   "cell_type": "code",
   "execution_count": 3,
   "id": "00466ac3-ec1d-4e79-b0fb-fadda3821f62",
   "metadata": {},
   "outputs": [
    {
     "data": {
      "text/plain": [
       "[<matplotlib.lines.Line2D at 0x2030a9988b0>]"
      ]
     },
     "execution_count": 3,
     "metadata": {},
     "output_type": "execute_result"
    },
    {
     "data": {
      "image/png": "[encoded data removed]",
      "text/plain": [
       "<Figure size 864x432 with 1 Axes>"
      ]
     },
     "metadata": {
      "needs_background": "light"
     },
     "output_type": "display_data"
    }
   ],
   "source": [
    "plt.figure(figsize=(12,6))\n",
    "plt.plot(xk,true_fn(xk),'x',markersize = 15)\n",
    "plt.plot(x,true_fn(x),'--r')"
   ]
  },
  {
   "cell_type": "markdown",
   "id": "86a4d2ff",
   "metadata": {},
   "source": [
    "## Using Radial Basis Function"
   ]
  },
  {
   "cell_type": "code",
   "execution_count": 4,
   "id": "dfb41649-6296-493b-8eee-d14587bbde7b",
   "metadata": {},
   "outputs": [
    {
     "data": {
      "text/plain": [
       "array([[ 0.  , -0.25, -0.5 , -0.75, -1.  ],\n",
       "       [ 0.25,  0.  , -0.25, -0.5 , -0.75],\n",
       "       [ 0.5 ,  0.25,  0.  , -0.25, -0.5 ],\n",
       "       [ 0.75,  0.5 ,  0.25,  0.  , -0.25],\n",
       "       [ 1.  ,  0.75,  0.5 ,  0.25,  0.  ]])"
      ]
     },
     "execution_count": 4,
     "metadata": {},
     "output_type": "execute_result"
    }
   ],
   "source": [
    "(xk.reshape(-1,1) - xk.reshape(1,-1))"
   ]
  },
  {
   "cell_type": "code",
   "execution_count": 5,
   "id": "a94354a9",
   "metadata": {},
   "outputs": [
    {
     "data": {
      "text/plain": [
       "array([[0.  ],\n",
       "       [0.25],\n",
       "       [0.5 ],\n",
       "       [0.75],\n",
       "       [1.  ]])"
      ]
     },
     "execution_count": 5,
     "metadata": {},
     "output_type": "execute_result"
    }
   ],
   "source": [
    "xk.reshape(-1,1)"
   ]
  },
  {
   "cell_type": "code",
   "execution_count": 6,
   "id": "53c5a8e4",
   "metadata": {},
   "outputs": [
    {
     "data": {
      "text/plain": [
       "array([[0.  , 0.25, 0.5 , 0.75, 1.  ]])"
      ]
     },
     "execution_count": 6,
     "metadata": {},
     "output_type": "execute_result"
    }
   ],
   "source": [
    "xk.reshape(1,-1)"
   ]
  },
  {
   "cell_type": "code",
   "execution_count": 7,
   "id": "c265cb09-f31c-41f8-b909-9773ea1cb7ed",
   "metadata": {},
   "outputs": [],
   "source": [
    "def euclidian_dist(x,xk):\n",
    "    return np.sqrt((x.reshape(-1,1) - xk.reshape(1,-1))**2)"
   ]
  },
  {
   "cell_type": "code",
   "execution_count": 8,
   "id": "16c5ae39-66a3-4d2f-a406-adf802d561fe",
   "metadata": {},
   "outputs": [
    {
     "data": {
      "text/plain": [
       "array([[0.  , 0.25, 0.5 , 0.75, 1.  ],\n",
       "       [0.25, 0.  , 0.25, 0.5 , 0.75],\n",
       "       [0.5 , 0.25, 0.  , 0.25, 0.5 ],\n",
       "       [0.75, 0.5 , 0.25, 0.  , 0.25],\n",
       "       [1.  , 0.75, 0.5 , 0.25, 0.  ]])"
      ]
     },
     "execution_count": 8,
     "metadata": {},
     "output_type": "execute_result"
    }
   ],
   "source": [
    "euclidian_dist(xk,xk)"
   ]
  },
  {
   "cell_type": "code",
   "execution_count": 9,
   "id": "ab8aff89-8ab1-4ddc-b238-50cfe2af6eac",
   "metadata": {},
   "outputs": [],
   "source": [
    "def gauss_rbf(radius,eps):\n",
    "    return np.exp(-(eps*radius)**2)"
   ]
  },
  {
   "cell_type": "code",
   "execution_count": 10,
   "id": "25b73e6d-1958-416e-9e68-1ccadc70c0a8",
   "metadata": {},
   "outputs": [
    {
     "data": {
      "text/plain": [
       "array([[1.        , 0.77880078, 0.36787944, 0.10539922, 0.01831564],\n",
       "       [0.77880078, 1.        , 0.77880078, 0.36787944, 0.10539922],\n",
       "       [0.36787944, 0.77880078, 1.        , 0.77880078, 0.36787944],\n",
       "       [0.10539922, 0.36787944, 0.77880078, 1.        , 0.77880078],\n",
       "       [0.01831564, 0.10539922, 0.36787944, 0.77880078, 1.        ]])"
      ]
     },
     "execution_count": 10,
     "metadata": {},
     "output_type": "execute_result"
    }
   ],
   "source": [
    "gauss_rbf(euclidian_dist(xk,xk),2)"
   ]
  },
  {
   "cell_type": "code",
   "execution_count": 11,
   "id": "b2ea5c9b-d0c4-4318-8cd3-a4a2c609aa7a",
   "metadata": {},
   "outputs": [],
   "source": [
    "class RBFInterp(object):\n",
    "    def __init__(self,eps):\n",
    "        self.eps = eps\n",
    "    def fit(self,xk,yk):\n",
    "        self.xk = xk\n",
    "        transformation = gauss_rbf(euclidian_dist(xk,xk),self.eps)\n",
    "        self.w_ = np.linalg.solve(transformation,yk)\n",
    "    def __call__(self,xn):\n",
    "        transformation = gauss_rbf(euclidian_dist(xn,xk),self.eps)\n",
    "#         print(transformation.shape)\n",
    "        return transformation.dot(self.w_)"
   ]
  },
  {
   "cell_type": "code",
   "execution_count": 12,
   "id": "4afe5128-8a76-4495-a531-afa0a5e873ff",
   "metadata": {},
   "outputs": [],
   "source": [
    "interp = RBFInterp(2)"
   ]
  },
  {
   "cell_type": "code",
   "execution_count": 13,
   "id": "77c1200c-04cb-4854-983c-79ab9892b59b",
   "metadata": {},
   "outputs": [],
   "source": [
    "yk = true_fn(xk)"
   ]
  },
  {
   "cell_type": "code",
   "execution_count": 14,
   "id": "f537c313-9200-4836-9d28-267b156623ee",
   "metadata": {},
   "outputs": [],
   "source": [
    "interp.fit(xk,yk)"
   ]
  },
  {
   "cell_type": "code",
   "execution_count": 15,
   "id": "8ce022f9-34d1-46e0-ab9c-4797b84da4c0",
   "metadata": {},
   "outputs": [
    {
     "name": "stdout",
     "output_type": "stream",
     "text": [
      "Radial Basis Weights =  [-0.29895242 -1.35307004  1.19722218 -1.10462673  1.56793877]\n"
     ]
    }
   ],
   "source": [
    "rbf_weights = interp.w_\n",
    "print('Radial Basis Weights = ', rbf_weights)"
   ]
  },
  {
   "cell_type": "code",
   "execution_count": 16,
   "id": "ab98b77a-8feb-45c0-a711-a96758883d72",
   "metadata": {},
   "outputs": [
    {
     "data": {
      "text/plain": [
       "array([-1.        , -0.89460678, -0.25      ,  0.51960678,  1.        ])"
      ]
     },
     "execution_count": 16,
     "metadata": {},
     "output_type": "execute_result"
    }
   ],
   "source": [
    "interp(xk)"
   ]
  },
  {
   "cell_type": "code",
   "execution_count": 17,
   "id": "1d5c78a5-e7bf-42d6-82fb-3bad6d710943",
   "metadata": {},
   "outputs": [
    {
     "data": {
      "text/plain": [
       "array([-1.        , -1.00779115, -1.01468846, -1.02066467, -1.02569438,\n",
       "       -1.02975402, -1.03282205, -1.03487898, -1.03590745, -1.0358923 ,\n",
       "       -1.03482063, -1.03268182, -1.02946759, -1.02517201, -1.0197915 ,\n",
       "       -1.01332485, -1.00577321, -0.99714004, -0.98743112, -0.97665448,\n",
       "       -0.96482038, -0.95194119, -0.93803141, -0.9231075 , -0.90718786,\n",
       "       -0.89029271, -0.87244399, -0.85366526, -0.83398159, -0.81341946,\n",
       "       -0.7920066 , -0.76977191, -0.74674534, -0.72295773, -0.69844074,\n",
       "       -0.67322669, -0.64734844, -0.62083931, -0.59373295, -0.56606322,\n",
       "       -0.5378641 , -0.5091696 , -0.48001366, -0.45043009, -0.42045245,\n",
       "       -0.39011403, -0.35944778, -0.32848623, -0.2972615 , -0.26580522,\n",
       "       -0.23414853, -0.20232204, -0.17035587, -0.1382796 , -0.1061223 ,\n",
       "       -0.07391254, -0.0416784 , -0.00944751,  0.0227529 ,  0.05489603,\n",
       "        0.0869554 ,  0.11890484,  0.15071845,  0.18237055,  0.21383563,\n",
       "        0.24508831,  0.27610328,  0.3068553 ,  0.33731911,  0.36746943,\n",
       "        0.39728092,  0.42672817,  0.45578564,  0.48442768,  0.51262854,\n",
       "        0.5403623 ,  0.56760298,  0.59432447,  0.62050058,  0.6461051 ,\n",
       "        0.6711118 ,  0.69549451,  0.71922713,  0.74228377,  0.76463871,\n",
       "        0.78626658,  0.80714239,  0.82724161,  0.84654028,  0.86501511,\n",
       "        0.88264355,  0.89940393,  0.91527554,  0.93023871,  0.94427497,\n",
       "        0.9573671 ,  0.96949925,  0.98065706,  0.9908277 ,  1.        ])"
      ]
     },
     "execution_count": 17,
     "metadata": {},
     "output_type": "execute_result"
    }
   ],
   "source": [
    "interp(x)"
   ]
  },
  {
   "cell_type": "markdown",
   "id": "08236169",
   "metadata": {},
   "source": [
    "## Using Polynomial Basis Function"
   ]
  },
  {
   "cell_type": "code",
   "execution_count": 18,
   "id": "b825c3ea",
   "metadata": {},
   "outputs": [],
   "source": [
    "import numpy as np\n",
    "from sklearn.preprocessing import PolynomialFeatures\n",
    "from sklearn.linear_model import LinearRegression"
   ]
  },
  {
   "cell_type": "code",
   "execution_count": 19,
   "id": "87fe9636",
   "metadata": {},
   "outputs": [
    {
     "name": "stdout",
     "output_type": "stream",
     "text": [
      "[[0.  ]\n",
      " [0.25]\n",
      " [0.5 ]\n",
      " [0.75]\n",
      " [1.  ]]\n"
     ]
    }
   ],
   "source": [
    "xk1 = xk.reshape(-1,1)\n",
    "print(xk1)"
   ]
  },
  {
   "cell_type": "code",
   "execution_count": 20,
   "id": "15e2a3fd",
   "metadata": {},
   "outputs": [],
   "source": [
    "poly = PolynomialFeatures(5)"
   ]
  },
  {
   "cell_type": "code",
   "execution_count": 21,
   "id": "16d040ca",
   "metadata": {},
   "outputs": [],
   "source": [
    "model = LinearRegression()"
   ]
  },
  {
   "cell_type": "code",
   "execution_count": 22,
   "id": "f5535cd1",
   "metadata": {},
   "outputs": [
    {
     "name": "stdout",
     "output_type": "stream",
     "text": [
      "[[1.00000000e+00 0.00000000e+00 0.00000000e+00 0.00000000e+00\n",
      "  0.00000000e+00 0.00000000e+00]\n",
      " [1.00000000e+00 2.50000000e-01 6.25000000e-02 1.56250000e-02\n",
      "  3.90625000e-03 9.76562500e-04]\n",
      " [1.00000000e+00 5.00000000e-01 2.50000000e-01 1.25000000e-01\n",
      "  6.25000000e-02 3.12500000e-02]\n",
      " [1.00000000e+00 7.50000000e-01 5.62500000e-01 4.21875000e-01\n",
      "  3.16406250e-01 2.37304688e-01]\n",
      " [1.00000000e+00 1.00000000e+00 1.00000000e+00 1.00000000e+00\n",
      "  1.00000000e+00 1.00000000e+00]]\n"
     ]
    }
   ],
   "source": [
    "poly_features = poly.fit_transform(xk1)\n",
    "print(poly_features)"
   ]
  },
  {
   "cell_type": "code",
   "execution_count": 23,
   "id": "e639458e",
   "metadata": {},
   "outputs": [
    {
     "data": {
      "text/plain": [
       "LinearRegression()"
      ]
     },
     "execution_count": 23,
     "metadata": {},
     "output_type": "execute_result"
    }
   ],
   "source": [
    "model.fit(poly_features,yk)"
   ]
  },
  {
   "cell_type": "code",
   "execution_count": 24,
   "id": "ea21bb53",
   "metadata": {},
   "outputs": [],
   "source": [
    "y_pred = model.predict(poly_features)"
   ]
  },
  {
   "cell_type": "code",
   "execution_count": 25,
   "id": "f49f2dbc",
   "metadata": {},
   "outputs": [
    {
     "name": "stdout",
     "output_type": "stream",
     "text": [
      "[-1.         -0.89460678 -0.25        0.51960678  1.        ]\n"
     ]
    }
   ],
   "source": [
    "print(y_pred)"
   ]
  },
  {
   "cell_type": "code",
   "execution_count": 26,
   "id": "79d47c96",
   "metadata": {},
   "outputs": [],
   "source": [
    "class PBFInterp(object):\n",
    "    def __init__(self,xn,degree):\n",
    "        self.poly = PolynomialFeatures(degree)\n",
    "    def fit(self,xk,yk):\n",
    "        self.xk = xk.reshape(-1,1)\n",
    "        self.model = LinearRegression()\n",
    "        poly_features = self.poly.fit_transform(self.xk)\n",
    "        self.model.fit(poly_features,yk)\n",
    "    def __call__(self,xn):\n",
    "        self.xn = xn.reshape(-1,1)\n",
    "        poly_features = self.poly.fit_transform(self.xn)\n",
    "        y_pred = self.model.predict(poly_features)\n",
    "        return y_pred"
   ]
  },
  {
   "cell_type": "code",
   "execution_count": 27,
   "id": "7721895d",
   "metadata": {},
   "outputs": [],
   "source": [
    "Interpbf = PBFInterp(xk,5)"
   ]
  },
  {
   "cell_type": "code",
   "execution_count": 28,
   "id": "e4910ff3",
   "metadata": {},
   "outputs": [],
   "source": [
    "Interpbf.fit(xk,yk)"
   ]
  },
  {
   "cell_type": "code",
   "execution_count": 29,
   "id": "3fb7373e",
   "metadata": {},
   "outputs": [
    {
     "data": {
      "text/plain": [
       "array([-1.        , -1.01035853, -1.01936981, -1.0270455 , -1.03339797,\n",
       "       -1.03844035, -1.04218646, -1.04465086, -1.04584874, -1.04579598,\n",
       "       -1.04450913, -1.04200535, -1.03830243, -1.03341876, -1.02737331,\n",
       "       -1.02018566, -1.01187589, -1.00246468, -0.99197319, -0.98042311,\n",
       "       -0.96783662, -0.9542364 , -0.93964554, -0.92408764, -0.90758669,\n",
       "       -0.89016712, -0.87185372, -0.85267173, -0.83264669, -0.81180454,\n",
       "       -0.79017154, -0.76777428, -0.74463964, -0.7207948 , -0.69626722,\n",
       "       -0.67108461, -0.64527494, -0.61886637, -0.59188732, -0.56436636,\n",
       "       -0.53633229, -0.50781402, -0.47884066, -0.44944142, -0.41964563,\n",
       "       -0.38948274, -0.35898228, -0.32817384, -0.29708706, -0.26575166,\n",
       "       -0.23419733, -0.2024538 , -0.17055078, -0.13851798, -0.10638503,\n",
       "       -0.07418153, -0.04193701, -0.00968092,  0.02255742,  0.05474878,\n",
       "        0.08686407,  0.11887436,  0.15075087,  0.18246502,  0.2139884 ,\n",
       "        0.24529283,  0.27635036,  0.30713326,  0.33761409,  0.36776567,\n",
       "        0.3975611 ,  0.4269738 ,  0.45597751,  0.48454631,  0.51265462,\n",
       "        0.54027724,  0.56738935,  0.59396653,  0.61998479,  0.64542054,\n",
       "        0.67025068,  0.69445253,  0.71800391,  0.74088314,  0.76306904,\n",
       "        0.78454095,  0.80527877,  0.82526294,  0.84447449,  0.86289501,\n",
       "        0.88050673,  0.89729247,  0.91323569,  0.92832053,  0.94253176,\n",
       "        0.95585486,  0.96827598,  0.97978202,  0.99036057,  1.        ])"
      ]
     },
     "execution_count": 29,
     "metadata": {},
     "output_type": "execute_result"
    }
   ],
   "source": [
    "Interpbf(x)"
   ]
  },
  {
   "cell_type": "code",
   "execution_count": 30,
   "id": "e6eb9439",
   "metadata": {},
   "outputs": [
    {
     "name": "stdout",
     "output_type": "stream",
     "text": [
      "Polynomial Basis Weights = [ 8.57092175e-14 -1.09254871e+00  6.65583129e+00 -1.69783803e+00\n",
      " -3.10907425e+00  1.24362970e+00]\n"
     ]
    }
   ],
   "source": [
    "pbf_weights = Interpbf.model.coef_\n",
    "print(\"Polynomial Basis Weights =\", pbf_weights)"
   ]
  },
  {
   "cell_type": "code",
   "execution_count": 31,
   "id": "f02df319-385d-4184-ad24-8226ace3ef73",
   "metadata": {},
   "outputs": [
    {
     "data": {
      "text/plain": [
       "<matplotlib.legend.Legend at 0x2030d469850>"
      ]
     },
     "execution_count": 31,
     "metadata": {},
     "output_type": "execute_result"
    },
    {
     "data": {
      "image/png": "[encoded data removed]",
      "text/plain": [
       "<Figure size 864x432 with 1 Axes>"
      ]
     },
     "metadata": {
      "needs_background": "light"
     },
     "output_type": "display_data"
    }
   ],
   "source": [
    "plt.figure(figsize = (12,6))\n",
    "plt.plot(xk,yk, 'x',label = 'Estimates')\n",
    "plt.plot(x, interp(x),'b', label = 'RBF fit')\n",
    "plt.plot(x, Interpbf(x),'g', label = 'PBF fit')\n",
    "plt.plot(x, true_fn(x),'--r', label = 'True function')\n",
    "plt.title('Comparison of Basis functions')\n",
    "plt.grid()\n",
    "plt.legend()"
   ]
  }
 ],
 "metadata": {
  "kernelspec": {
   "display_name": "Python 3 (ipykernel)",
   "language": "python",
   "name": "python3"
  },
  "language_info": {
   "codemirror_mode": {
    "name": "ipython",
    "version": 3
   },
   "file_extension": ".py",
   "mimetype": "text/x-python",
   "name": "python",
   "nbconvert_exporter": "python",
   "pygments_lexer": "ipython3",
   "version": "3.9.12"
  }
 },
 "nbformat": 4,
 "nbformat_minor": 5
}
